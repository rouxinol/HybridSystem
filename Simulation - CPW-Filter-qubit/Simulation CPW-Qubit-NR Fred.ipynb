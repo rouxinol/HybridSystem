{
 "cells": [
  {
   "cell_type": "markdown",
   "metadata": {},
   "source": []
  },
  {
   "cell_type": "code",
   "execution_count": 1,
   "metadata": {
    "collapsed": false
   },
   "outputs": [
    {
     "name": "stdout",
     "output_type": "stream",
     "text": [
      "Populating the interactive namespace from numpy and matplotlib\n"
     ]
    }
   ],
   "source": [
    "#import functions\n",
    "%pylab inline\n",
    "\n",
    "# from MyUnits import *\n",
    "from MyFunctions import *\n",
    "from qutip import *\n",
    "\n",
    "# from MyQubit import *\n",
    "# import mpld3\n",
    "import multiprocessing as mp\n",
    "import itertools\n",
    "import datetime\n",
    "\n",
    "\n",
    "\n"
   ]
  },
  {
   "cell_type": "code",
   "execution_count": 2,
   "metadata": {
    "code_folding": [
     0
    ],
    "collapsed": false
   },
   "outputs": [
    {
     "data": {
      "application/javascript": [
       "IPython.load_extensions('usability/codefolding/main');\n",
       "IPython.load_extensions('toggle_all_line_number.js');"
      ],
      "text/plain": [
       "<IPython.core.display.Javascript object>"
      ]
     },
     "metadata": {},
     "output_type": "display_data"
    }
   ],
   "source": [
    "\n",
    "%%javascript\n",
    "IPython.load_extensions('usability/codefolding/main');\n",
    "IPython.load_extensions('toggle_all_line_number.js');"
   ]
  },
  {
   "cell_type": "code",
   "execution_count": 3,
   "metadata": {
    "code_folding": [
     0
    ],
    "collapsed": true
   },
   "outputs": [],
   "source": [
    "import scipy.constants as sc"
   ]
  },
  {
   "cell_type": "code",
   "execution_count": 100,
   "metadata": {
    "collapsed": true
   },
   "outputs": [],
   "source": [
    "import time\n",
    "import datetime\n",
    "from scipy.optimize import fsolve"
   ]
  },
  {
   "cell_type": "markdown",
   "metadata": {},
   "source": [
    "#Standard Hamiltonian"
   ]
  },
  {
   "cell_type": "markdown",
   "metadata": {},
   "source": [
    "$$\n",
    "\\lambda \\left({{b}^\\dagger} {\\sigma_-} + {b} {\\sigma_+} - \\frac{g^{2} {{b}^\\dagger} {\\sigma_-}}{2 \\Delta^{2}} - \\frac{g^{2} {b} {\\sigma_+}}{2 \\Delta^{2}} - \\frac{g^{2} \\left({{c}^\\dagger}\\right)^{2}}{\\Delta^{2}} {\\sigma_-} {b} - \\frac{g^{2} \\left({c}\\right)^{2}}{\\Delta^{2}} {\\sigma_+} {{b}^\\dagger}\\right) + w_{mr} {{b}^\\dagger} {b} + {{c}^\\dagger} {c} \\left(\\omega_{c} + \\frac{g^{2} {\\sigma_z}}{\\Delta} - \\frac{g^{2} \\lambda}{\\Delta^{2}} {{b}^\\dagger} {\\sigma_-} - \\frac{g^{2} \\lambda}{\\Delta^{2}} {b} {\\sigma_+}\\right) + {\\sigma_z} \\left(\\frac{w_{q}}{2} + \\frac{g^{2}}{2 \\Delta} + \\frac{g \\lambda}{\\Delta} {{b}^\\dagger} {c} + \\frac{g \\lambda}{\\Delta} {{c}^\\dagger} {b}\\right)\n",
    "$$"
   ]
  },
  {
   "cell_type": "code",
   "execution_count": 147,
   "metadata": {
    "code_folding": [
     0
    ],
    "collapsed": true
   },
   "outputs": [],
   "source": [
    "# Time Hamiltonian\n",
    "def Ht(t, args):\n",
    "    #\n",
    "    # evaluate the hamiltonian at time t. \n",
    "    #\n",
    "    \n",
    "    H0 = args['H0']\n",
    "    c = args['c']\n",
    "    cDag = args['cDag']\n",
    "    A = args['A']\n",
    "    \n",
    "    w  = args['w']\n",
    "    \n",
    "    \n",
    "    s = args['s']\n",
    "    sx = args['sx']\n",
    "    \n",
    "    \n",
    "\n",
    "    return H0 + A * (c + cDag + 2 * s * sx)*cos(w*t) #(a * exp(1j*w*t) + aDag * exp(-1j*w*t))\n",
    "\n",
    "def func(a,g,L,w_c,w_nr,w_q):\n",
    "    s,alfa = a\n",
    "    return (s+ g/(w_c+w_q),alfa+ L/(w_nr+w_q))"
   ]
  },
  {
   "cell_type": "code",
   "execution_count": 148,
   "metadata": {
    "code_folding": [],
    "collapsed": false
   },
   "outputs": [],
   "source": [
    "# Calc Spectrum\n",
    "def calc_spectrum_6(N,M,P, w_c,w_nr, w_q,L,g,A,w=0, **kwargs):\n",
    "    \n",
    "    # dispersive Qubit CPW NR \n",
    "    Delta = w_q - w_c\n",
    "    delta = w_q - w_nr\n",
    "    # qubit operators\n",
    "    \n",
    "    sm = tensor(create(2),qeye(M),qeye(P))\n",
    "    sz = tensor(sigmaz(),qeye(M),qeye(P))\n",
    "    sx = tensor(sigmax(),qeye(M),qeye(P))\n",
    "    nq = sm.dag() * sm\n",
    "    xq = sm + sm.dag()\n",
    "    I = tensor(qeye(2), qeye(M),qeye(P))\n",
    "    \n",
    "    \n",
    "    # mechanical resonator operators\n",
    "    \n",
    "    b = tensor(qeye(2),destroy(M),qeye(P))\n",
    "    n_b = b.dag() * b\n",
    "    x_b = b.dag() + b\n",
    "    p_b = b - b.dag()\n",
    "    \n",
    "    \n",
    "    # CPW operators\n",
    "    \n",
    "    c = tensor(qeye(2),qeye(M),destroy(P))\n",
    "    n_c = c.dag() * c\n",
    "    x_c = c.dag() + c\n",
    "    p_c = c - c.dag()\n",
    "    \n",
    "    # Identity\n",
    "    \n",
    "    I = tensor(qeye(2),qeye(M),qeye(P))\n",
    "    \n",
    "    \n",
    "#      Hamiltonian\n",
    "    if 'Fred' in kwargs:\n",
    "#         s = -0.01999 + 0.00393001*w_q - 0.000689326*w_q**2 + 0.0000851242*w_q**3 - 4.92054e-6*w_q**4\n",
    "#         alfa = -0.000285256 + 0.0000784123 * w_q - 0.0000178779 * w_q **2 + 2.60578e-6* w_q**3 -1.65641e-7*w_q**4\n",
    "\n",
    "        s,alfa = fsolve(func,(0,0),args=(g,L,w_c,w_nr,w_q))\n",
    "            \n",
    "        \n",
    "        w_qt = w_q * exp(-2* s**2 - 2 * alfa**2)\n",
    "        \n",
    "        \n",
    "        H1 = w_c * c.dag()*c + w_nr * b.dag()*b \n",
    "        \n",
    "        H2 = w_qt/2 * sz *(1 - 4 * s**2 * c.dag() * c)* (1 - 4 * alfa **2 * b.dag() * b )\n",
    "\n",
    "        H3 = (w_qt/(w_c + w_qt))* 2 * g * ( c.dag()*sm + c*sm.dag()) \n",
    "        + (w_qt/(w_nr + w_qt))* 2 * L * ( b.dag()*sm + b*sm.dag()) \n",
    "    \n",
    "    \n",
    "    \n",
    "    \n",
    "    \n",
    "    \n",
    "  \n",
    "    \n",
    "    \n",
    "    \n",
    "    \n",
    "#     Colapse Operators\n",
    "    \n",
    "    c_op_list = []\n",
    "    \n",
    "    kappa_n = 0.0005 # cavity\n",
    "    \n",
    "    gamma_rel = 0.0001 # qubit\n",
    "    gamma_dep = 0.002 # qubit\n",
    "    \n",
    "    Gamma_m = 0.01 # MR\n",
    "    \n",
    "    Ta = 60e-3 #k\n",
    "    Tb = 60e-3 #k\n",
    "    Tq = 30e-3 #K\n",
    "    \n",
    "    n_th_a = 1/(exp(sc.h*w_q*1e9/(sc.k*Ta)-1))\n",
    "    \n",
    "    n_th_q = 1/(exp(sc.h*w_q*1e9/(sc.k*Tq)-1))\n",
    "    \n",
    "    if Tb == 0:\n",
    "         n_th_b = 0\n",
    "    else:\n",
    "        \n",
    "        n_th_b = 1/(exp(sc.h*w_nr*1e9/(sc.k*Tb)-1))\n",
    "    \n",
    "    # cavity\n",
    "    c_op_list = []\n",
    "\n",
    "    rate = kappa_n * (1 + n_th_a)\n",
    "    if rate > 0.0:\n",
    "        c_op_list.append(sqrt(rate) * (c+s*sx))\n",
    "\n",
    "    rate = kappa_n * n_th_a\n",
    "    if rate > 0.0:\n",
    "        c_op_list.append(sqrt(rate) * (c.dag()+s*sx))\n",
    "\n",
    "    rate = gamma_rel * (1 + n_th_q)\n",
    "    if rate > 0.0:\n",
    "        c_op_list.append(sqrt(rate) * (1/2 * (sx \n",
    "                                              + exp(-2*s**2 - 2 * alfa**2)*(\n",
    "                        (1 - 4 * s**2 * c.dag() * c)\n",
    "                        * (1 - 4 * alfa **2 * b.dag() * b )\n",
    "                        *(sm-sm.dag())\n",
    "                        -2*s*(c.dag()-c)*sz - 2*alfa*(b.dag()-b)*sz) \n",
    "                                             )))\n",
    "\n",
    "    rate = gamma_rel * (n_th_q)\n",
    "    if rate > 0.0:\n",
    "        c_op_list.append(sqrt(rate) * (1/2 * (sx \n",
    "                                              + exp(-2*s**2 - 2 * alfa**2)*(-\n",
    "                        (1 - 4 * s**2 * c.dag() * c)\n",
    "                        * (1 - 4 * alfa **2 * b.dag() * b )\n",
    "                        *(sm-sm.dag())\n",
    "                        +2*s*(c.dag()-c)*sz + 2*alfa*(b.dag()-b)*sz) \n",
    "                                             )))\n",
    "\n",
    "    rate = gamma_dep / 2 * (1 + n_th_q)\n",
    "    if rate > 0.0:\n",
    "        c_op_list.append(sqrt(rate) * (sz*exp(-2*s**2-2*alfa**2)\n",
    "                                       * (1 - 4 * s**2 * c.dag() * c)\n",
    "                                       * (1 - 4 * alfa **2 * b.dag() * b )))\n",
    "    \n",
    "    rate = Gamma_m * (1 + n_th_b)\n",
    "    if rate > 0.0:\n",
    "        c_op_list.append(sqrt(rate) * (b+alfa*sx))\n",
    "\n",
    "    rate = Gamma_m * n_th_b\n",
    "    if rate > 0.0:\n",
    "        c_op_list.append(sqrt(rate) *( b.dag()+alfa*sx))    \n",
    "        \n",
    "    \n",
    "# Solution Type    \n",
    "#     if 'dispersive' in kwargs:\n",
    "               \n",
    "#         H0 = H1 + H2a + H3 + H4 #+ H5\n",
    "#         rho = steadystate(H0,c_op_list)\n",
    "#         rho_b = rho*n_b\n",
    "#         rho_a = rho*sz\n",
    "#         rho_c = rho*c\n",
    "#         rho_d = rho*n_c\n",
    "        \n",
    "#         return rho_c.tr(),rho_a.tr(),rho_b.tr(),rho_d.tr()\n",
    "    \n",
    "    \n",
    "#     if 'mapping' in kwargs:\n",
    "               \n",
    "#         H0 = H1 + H2w + H3 + H4 #+ H5\n",
    "#         rho = steadystate(H0,c_op_list)\n",
    "#         rho_c = rho*c\n",
    "#         return rho_c.tr()\n",
    "    \n",
    "    if 'energies'in kwargs:\n",
    "        H = H1 + H2 + H3\n",
    "        \n",
    "        return H.eigenenergies() #+ H4\n",
    "    \n",
    "    if 'energy'in kwargs:\n",
    "        H = H1 + H2 + H3\n",
    "        \n",
    "        return H.eigenenergies(),s,alfa #+ H4\n",
    "    \n",
    "    if 'time'in kwargs:\n",
    "        \n",
    "        H0 = H1 + H2 + H3 #+ H4 \n",
    "        H_args = {'H0': H0, 'c': c, 'cDag': c.dag() , 'A' : A , 'w': w, 's':s, 'sx':sx}\n",
    "\n",
    "    #     rho = steadystate(H,c_op_list)\n",
    "\n",
    "        T = 2 * pi / w\n",
    "\n",
    "        U = propagator(Ht, T, c_op_list, H_args)\n",
    "\n",
    "        rho_ss = propagator_steadystate(U)\n",
    "\n",
    "        \n",
    "        rho_b = rho_ss*n_b\n",
    "        rho_a = rho_ss*sz\n",
    "        rho_c = rho_ss*c + s*rho_ss*sx\n",
    "        rho_d = rho_ss*n_c\n",
    "        \n",
    "        return rho_c.tr(),rho_a.tr(),rho_b.tr(),rho_d.tr()    "
   ]
  },
  {
   "cell_type": "code",
   "execution_count": 149,
   "metadata": {
    "collapsed": false
   },
   "outputs": [
    {
     "name": "stdout",
     "output_type": "stream",
     "text": [
      "4.95000686255\n"
     ]
    }
   ],
   "source": [
    "N = 2\n",
    "M = 2\n",
    "P = 2\n",
    "w_c = 5.0\n",
    "w_nr = 3.5\n",
    "g = 0.1\n",
    "L = 0.001\n",
    "Ej = 15\n",
    "Ec = 0.223\n",
    "w = 0\n",
    "w_q_max = sqrt(8 * Ec * Ej) - Ec\n",
    "w_q = 3.5\n",
    "print(w_q_max)\n",
    "d = 0.10\n",
    "A = 0.00005# field aplitude\n",
    "kwargs = {'num_cpus':26,'energy':1, 'Fred':1}\n",
    "\n",
    "E,s,alfa= calc_spectrum_6(N,M,P, w_c,w_nr, w_q,L,g,A,w=0, **kwargs)"
   ]
  },
  {
   "cell_type": "code",
   "execution_count": 150,
   "metadata": {
    "code_folding": [],
    "collapsed": false
   },
   "outputs": [
    {
     "data": {
      "text/plain": [
       "(array([  0.        ,   3.49453058,   3.50000014,   5.00546914,\n",
       "          6.99453044,   8.49806254,   8.50546928,  11.9980624 ]),\n",
       " -0.011764705882352941,\n",
       " -0.00014285714285714287)"
      ]
     },
     "execution_count": 150,
     "metadata": {},
     "output_type": "execute_result"
    }
   ],
   "source": [
    "E - E[0],s,alfa"
   ]
  },
  {
   "cell_type": "code",
   "execution_count": 172,
   "metadata": {
    "code_folding": [],
    "collapsed": false
   },
   "outputs": [
    {
     "name": "stdout",
     "output_type": "stream",
     "text": [
      "4.95000686255\n"
     ]
    }
   ],
   "source": [
    "N = 2\n",
    "M = 2\n",
    "P = 2\n",
    "w_c = 5\n",
    "w_nr = 3.5\n",
    "g = 0.1\n",
    "L = 0.001\n",
    "Ej = 15\n",
    "Ec = 0.223\n",
    "w = 0\n",
    "w_q_max = sqrt(8 * Ec * Ej) - Ec\n",
    "print(w_q_max)\n",
    "d = 0.10\n",
    "A = 0.00005# field aplitude\n",
    "\n",
    "# phi = linspace(0,pi/2,200)\n",
    "x_i,x_f = 0.3,0.36\n",
    "phi = pi*linspace(x_i,x_f,100)\n",
    "x_vec =  sqrt( 8 * Ec * Ej* abs(cos(phi))*sqrt(1+(d*tan(phi))**2) )-Ec\n",
    "# energies = array([calc_spectrum_6(N,M,P, w_c,w_nr, w_q/2,L,g,A,w,**kwargs)\n",
    "#                   for w_q in x_vec])\n",
    "kwargs = {'num_cpus':26,'energies':1, 'Fred':1}"
   ]
  },
  {
   "cell_type": "code",
   "execution_count": null,
   "metadata": {
    "collapsed": true
   },
   "outputs": [],
   "source": []
  },
  {
   "cell_type": "code",
   "execution_count": 173,
   "metadata": {
    "code_folding": [
     0
    ],
    "collapsed": false
   },
   "outputs": [
    {
     "name": "stdout",
     "output_type": "stream",
     "text": [
      "Parallel Simulation with 26 CPUs \n",
      "[100.0%] of the simulations calculated, Estimated Remaining time: 0.0s\n",
      "All done! \n",
      "Total time:0:00:00\n"
     ]
    }
   ],
   "source": [
    "# Energies\n",
    "\n",
    "\n",
    "# variable to count the total number of tasks we need to do; used to create progress bar\n",
    "task_count =len(x_vec)\n",
    "\n",
    "\n",
    "\n",
    "# Check number of cpus to be used\n",
    "if 'num_cpus' in kwargs:\n",
    "    num_cpu = kwargs['num_cpus']\n",
    "    if num_cpu == 1:\n",
    "        print(\"1 CPU; Serial Simulation\")\n",
    "    else:\n",
    "        print(\"Parallel Simulation with %d CPUs \" % num_cpu)    \n",
    "else:\n",
    "    num_cpu = 1\n",
    "    print(\"Serial Simulation\")\n",
    "\n",
    "\n",
    "\n",
    "## Program to run function in parallel: \n",
    "\n",
    "try:\n",
    "    t_start = time.time() # start time simulation\n",
    "    time_1 = []\n",
    "    pool = mp.Pool(processes=num_cpu) #  create the initial pool to run the simulation   \n",
    "#         manager = mp.Manager()\n",
    "#         queue = manager.Queue()\n",
    "\n",
    "\n",
    "#         _update_progress_bar(1)\n",
    "#     task_args = a,z\n",
    "    results = [pool.apply_async(calc_spectrum_6,(N,\n",
    "                                                 M,\n",
    "                                                 P,\n",
    "                                                 w_c,\n",
    "                                                 w_nr,\n",
    "                                                 a1,\n",
    "                                                 L,\n",
    "                                                 g,\n",
    "                                                 A,\n",
    "                                                 w),kwargs\n",
    "                                ,callback=None,error_callback=None) for a1 in x_vec]\n",
    "\n",
    "\n",
    "\n",
    "    #####N,M,P, w_c,w_nr, w_q,L,g,A,w=0\n",
    "    while True:\n",
    "        incomplete_count = sum(1 for x in results if not x.ready())\n",
    "\n",
    "        if incomplete_count == 0:\n",
    "            print(\"[100.0%] of the simulations calculated, Estimated Remaining time: 0.0s\", end=\"\\r\")\n",
    "            print( \"\\nAll done! \\nTotal time:%s\"%datetime.timedelta(seconds=int(dif_time)))\n",
    "            break\n",
    "\n",
    "        else:\n",
    "\n",
    "            p = float(task_count - incomplete_count) / task_count * 100 \n",
    "\n",
    "            dif_time = (time.time() - t_start)    \n",
    "\n",
    "#                 \n",
    "            if p > 0:\n",
    "                rem_time = (datetime.timedelta(seconds=int(dif_time*(100-p)/p)))\n",
    "\n",
    "#                     rem_time_1 = (datetime.timedelta(seconds=int(dif_time/(task_count-incomplete_count))))\n",
    "                time_1.append(float(dif_time/(task_count-  incomplete_count)))\n",
    "#                     rem_time_1 = mean(time_1) *task_count\n",
    "#                     rem_time_1 = (datetime.timedelta( seconds=int(mean(time_1) *task_count)))\n",
    "                rem_time_1 = time.strftime(\"%Z - %Y/%m/%d, %H:%M:%S\", time.localtime(t_start+mean(time_1) *task_count))\n",
    "            else:\n",
    "                rem_time = '?'\n",
    "                rem_time_1 = 0\n",
    "\n",
    "\n",
    "            print(\"[%4.1f%%] of the simulations calculated, Estimated Remaining time: %s, (%s)\"\n",
    "                  %(p,rem_time,rem_time_1) , end=\"\\r\")\n",
    "\n",
    "            time.sleep(.25)\n",
    "\n",
    "\n",
    "    while not all([ar.ready() for ar in results]):\n",
    "\n",
    "        for ar in results:    \n",
    "            ar.wait(timeout=0.1)\n",
    "\n",
    "    pool.terminate()\n",
    "    pool.join()\n",
    "\n",
    "except KeyboardInterrupt as e:\n",
    "    pool.terminate()\n",
    "    pool.join()\n",
    "    raise e\n",
    "\n",
    "\n",
    "\n",
    "\n",
    "energies_temp = [ar.get() for ar in results]\n",
    "energies = asarray(energies_temp)\n",
    "\n",
    "\n",
    "\n"
   ]
  },
  {
   "cell_type": "code",
   "execution_count": 174,
   "metadata": {
    "code_folding": [],
    "collapsed": false,
    "scrolled": false
   },
   "outputs": [
    {
     "data": {
      "text/plain": [
       "<matplotlib.collections.LineCollection at 0x7fccca3a6ef0>"
      ]
     },
     "execution_count": 174,
     "metadata": {},
     "output_type": "execute_result"
    },
    {
     "data": {
      "image/png": "[encoded data removed]",
      "text/plain": [
       "<matplotlib.figure.Figure at 0x7fccca391da0>"
      ]
     },
     "metadata": {},
     "output_type": "display_data"
    }
   ],
   "source": [
    "# Plot \n",
    "fig, axes = subplots(1,1, figsize=(16,6))\n",
    "x_inf = -1\n",
    "x_sup = 10\n",
    "\n",
    "for n in range(len(energies[0,:])):\n",
    "    axes.plot(phi/pi, (energies[:,n]-energies[:,0]),'-',linewidth=2)\n",
    "#     axes.plot(phi/pi, (energies[:,n]-energies[:,0])/2,'--')\n",
    "    \n",
    "    if n < 4:\n",
    "        axes.text(x_i,energies[0,n]-energies[0,0],r'|%s>'%(n),fontsize=20)\n",
    "    \n",
    "axes.set_title('Full')\n",
    "axes.set_ylim(x_inf, x_sup)\n",
    "axes.set_xlabel(r'$\\phi$', fontsize=18)\n",
    "axes.set_ylabel(r'$E_n-E_0$', fontsize=18)\n",
    "axes.hlines(w_nr,x_i,x_f,linestyles='dashed',linewidth=3,color='green')\n",
    "axes.hlines(w_c,x_i,x_f,linestyles='dashed',linewidth=3)\n",
    "axes.vlines(0.33,0,10,linestyles='dashed',linewidth=3)\n",
    "\n",
    "\n",
    "\n",
    "\n"
   ]
  },
  {
   "cell_type": "code",
   "execution_count": 175,
   "metadata": {
    "code_folding": [
     0
    ],
    "collapsed": false
   },
   "outputs": [],
   "source": [
    "y_i,y_f = 4.9,5.1\n",
    "y_vec = linspace(y_i,y_f,100) \n",
    "a , b = zip(*itertools.product(x_vec,y_vec))\n",
    "kwargs = {'num_cpus':26,'time':1, 'Fred':1}"
   ]
  },
  {
   "cell_type": "code",
   "execution_count": 176,
   "metadata": {
    "code_folding": [
     0
    ],
    "collapsed": false
   },
   "outputs": [
    {
     "name": "stdout",
     "output_type": "stream",
     "text": [
      "Parallel Simulation with 26 CPUs \n",
      "[100.0%] of the simulations calculated, Estimated Remaining time: 0.0s\n",
      "All done! \n",
      "Mean time:0.294834\n",
      "\n",
      "Total time:0:49:08\n"
     ]
    }
   ],
   "source": [
    "# Run Spectrum\n",
    "# Create from the original vectors the new vector with the correct number copies\n",
    "a , b = zip(*itertools.product(x_vec,y_vec))\n",
    "# variable to count the total number of tasks we need to do; used to create progress bar\n",
    "task_count =len(x_vec)*len(y_vec)\n",
    "\n",
    "# Check number of cpus to be used\n",
    "if 'num_cpus' in kwargs:\n",
    "    num_cpu = kwargs['num_cpus']\n",
    "    if num_cpu == 1:\n",
    "        print(\"1 CPU; Serial Simulation\")\n",
    "    else:\n",
    "        print(\"Parallel Simulation with %d CPUs \" % num_cpu)    \n",
    "else:\n",
    "    num_cpu = 1\n",
    "    print(\"Serial Simulation\")\n",
    "\n",
    "\n",
    "\n",
    "## Program to run function in parallel: \n",
    "t_start = time.time() # start time simulation\n",
    "time_1 = []\n",
    "try:\n",
    "    pool = mp.Pool(processes=num_cpu) #  create the initial pool to run the simulation   \n",
    "#         manager = mp.Manager()\n",
    "#         queue = manager.Queue()\n",
    "\n",
    "\n",
    "#         _update_progress_bar(1)\n",
    "#     task_args = a,z\n",
    "    results = [pool.apply_async(calc_spectrum_6,(N,\n",
    "                                                 M,\n",
    "                                                 P,\n",
    "                                                 w_c,\n",
    "                                                 w_nr,\n",
    "                                                 a1,\n",
    "                                                 L,\n",
    "                                                 g,\n",
    "                                                 A,\n",
    "                                                 b1),kwargs\n",
    "                                ,callback=None,error_callback=None) for a1,b1 in zip(a,b)]\n",
    "\n",
    "\n",
    "\n",
    "        #####\n",
    "    while True:\n",
    "        incomplete_count = sum(1 for x in results if not x.ready())\n",
    "\n",
    "        if incomplete_count == 0:\n",
    "            print(\"[100.0%] of the simulations calculated, Estimated Remaining time: 0.0s\", end=\"\\r\")\n",
    "            print( \"\\nAll done! \\nMean time:%f\"%(dif_time/task_count))\n",
    "            print( \"\\nTotal time:%s\"%datetime.timedelta(seconds=int(dif_time)))\n",
    "            break\n",
    "\n",
    "        else:\n",
    "\n",
    "            p = float(task_count - incomplete_count) / task_count * 100 \n",
    "\n",
    "            dif_time = (time.time() - t_start)    \n",
    "\n",
    "#                 \n",
    "            if p > 0:\n",
    "                rem_time = (datetime.timedelta(seconds=int(dif_time*(100-p)/p)))\n",
    "\n",
    "#                     rem_time_1 = (datetime.timedelta(seconds=int(dif_time/(task_count-incomplete_count))))\n",
    "                time_1.append(float(dif_time/(task_count -  incomplete_count)))\n",
    "#                     rem_time_1 = mean(time_1) *task_count\n",
    "#                     rem_time_1 = (datetime.timedelta( seconds=int(mean(time_1) *task_count)))\n",
    "                rem_time_1 = time.strftime(\"%Z - %Y/%m/%d, %H:%M:%S\", time.localtime(t_start+mean(time_1) *task_count))\n",
    "            else:\n",
    "                rem_time = '?'\n",
    "                rem_time_1 = 0\n",
    "\n",
    "\n",
    "            print(\"[%4.1f%%] of the simulations calculated, Estimated Remaining time: %s, (%s)\"\n",
    "                  %(p,rem_time,rem_time_1) , end=\"\\r\")\n",
    "\n",
    "            time.sleep(.25)\n",
    "\n",
    "\n",
    "    while not all([ar.ready() for ar in results]):\n",
    "\n",
    "        for ar in results:    \n",
    "            ar.wait(timeout=0.1)\n",
    "\n",
    "    pool.terminate()\n",
    "    pool.join()\n",
    "\n",
    "except KeyboardInterrupt as e:\n",
    "    pool.terminate()\n",
    "    pool.join()\n",
    "    raise e\n",
    "\n",
    "\n",
    "\n",
    "\n",
    "results = [ar.get() for ar in results]\n",
    "\n"
   ]
  },
  {
   "cell_type": "code",
   "execution_count": 177,
   "metadata": {
    "code_folding": [
     0
    ],
    "collapsed": false
   },
   "outputs": [],
   "source": [
    "# Reshape Results\n",
    "#results = qload('Two_Dispersive_Simulation')\n",
    "results_1 = asarray(results)\n",
    "# qsave(results,name='One_Dispersive_Simulation_200x300')\n",
    "#qsave(results,name='Two_Dispersive_Simulation')\n",
    "# qsave(results,name='ThirtytyVolts')\n",
    "\n",
    "tr_c = reshape(results_1[:,0],(-1,len(y_vec+1)))\n",
    "tr_a = reshape(results_1[:,1],(-1,len(y_vec+1)))\n",
    "tr_b = reshape(results_1[:,2],(-1,len(y_vec+1)))\n",
    "tr_d = reshape(results_1[:,3],(-1,len(y_vec+1)))"
   ]
  },
  {
   "cell_type": "code",
   "execution_count": 178,
   "metadata": {
    "code_folding": [
     0
    ],
    "collapsed": false
   },
   "outputs": [
    {
     "data": {
      "text/plain": [
       "<matplotlib.text.Text at 0x7fccca6cb4e0>"
      ]
     },
     "execution_count": 178,
     "metadata": {},
     "output_type": "execute_result"
    },
    {
     "data": {
      "image/png": "[encoded data removed]",
      "text/plain": [
       "<matplotlib.figure.Figure at 0x7fccd03562b0>"
      ]
     },
     "metadata": {},
     "output_type": "display_data"
    }
   ],
   "source": [
    "# Plot Graphics\n",
    "fig, ax = subplots(4,1, figsize=(16,20))\n",
    "\n",
    "\n",
    "\n",
    "im = ax[0].pcolor(phi/pi,y_vec,transpose(log10(abs(tr_c))))#,vmin=0, vmax=1)\n",
    "fig.colorbar(im, ax=ax[0])\n",
    "# ax[0,0].set_xlim(4.27,4.39)\n",
    "# ax[0,0].set_ylim(P_i,P_f)\n",
    "ax[0].set_ylabel(r'Probe Frequency (GHz)',fontsize=20)\n",
    "# ax[0].set_xlabel(r'Qubit Tone Frequency (GHz)',fontsize=10)\n",
    "ax[0].set_title(r'$Tr[\\rho c]$',fontsize=20)\n",
    "\n",
    "\n",
    "im = ax[1].pcolor(phi/pi,y_vec,transpose((abs(tr_a))))#,vmin=0, vmax=1)\n",
    "fig.colorbar(im, ax=ax[1])\n",
    "# ax[0,0].set_xlim(4.27,4.39)\n",
    "# ax[0,0].set_ylim(P_i,P_f)\n",
    "ax[1].set_ylabel(r'Probe Frequency (GHz)',fontsize=20)\n",
    "# ax[1].set_xlabel(r'Qubit Tone Frequency (GHz)',fontsize=10)\n",
    "ax[1].set_title(r'$Tr[\\rho \\sigma_z]$',fontsize=20)\n",
    "\n",
    "im = ax[2].pcolor(phi/pi,y_vec,transpose(log10(abs(tr_b))))#,vmin=0, vmax=1)\n",
    "fig.colorbar(im, ax=ax[2])\n",
    "# ax[0,0].set_xlim(4.27,4.39)\n",
    "# ax[0,0].set_ylim(P_i,P_f)\n",
    "ax[2].set_ylabel(r'Probe Frequency (GHz)',fontsize=20)\n",
    "# ax[2].set_xlabel(r'Qubit Tone Frequency (GHz)',fontsize=10)\n",
    "ax[2].set_title(r'$Tr[\\rho b^\\dagger  b]$',fontsize=20)\n",
    "\n",
    "im = ax[3].pcolor(phi/pi,y_vec,transpose((abs(tr_d))))#,vmin=0, vmax=1)\n",
    "fig.colorbar(im, ax=ax[3])\n",
    "# ax[0,0].set_xlim(4.27,4.39)\n",
    "# ax[0,0].set_ylim(P_i,P_f)\n",
    "ax[3].set_ylabel(r'Probe Frequency (GHz)',fontsize=20)\n",
    "ax[3].set_xlabel(r'Flux ($\\Phi_0$)',fontsize=20)\n",
    "ax[3].set_title(r'$Tr[\\rho c^\\dagger c]$',fontsize=20)"
   ]
  },
  {
   "cell_type": "code",
   "execution_count": 179,
   "metadata": {
    "code_folding": [
     0
    ],
    "collapsed": false
   },
   "outputs": [
    {
     "data": {
      "text/plain": [
       "<matplotlib.colorbar.Colorbar at 0x7fccc9fc7278>"
      ]
     },
     "execution_count": 179,
     "metadata": {},
     "output_type": "execute_result"
    },
    {
     "data": {
      "image/png": "[encoded data removed]",
      "text/plain": [
       "<matplotlib.figure.Figure at 0x7fccd09463c8>"
      ]
     },
     "metadata": {},
     "output_type": "display_data"
    }
   ],
   "source": [
    "# Plot Graphic II\n",
    "fig, axes = subplots(1,1, figsize=(16,10))\n",
    "y_inf = y_i\n",
    "y_sup = y_f\n",
    "x_inf = x_i\n",
    "x_sup = x_f\n",
    "\n",
    "for n in range(len(energies[0,:])):\n",
    "    axes.plot(phi/pi, (energies[:,n]-energies[:,0]),'-',linewidth=1)\n",
    "    axes.plot(phi/pi, (energies[:,n]-energies[:,0])/2,'--')\n",
    "    \n",
    "#     if n < 4:\n",
    "#         axes.text(.2,energies[0,n]-energies[0,0],r'|%s>'%(n),fontsize=20)\n",
    "    \n",
    "axes.set_title('Full')\n",
    "axes.set_ylim(y_inf, y_sup)\n",
    "axes.set_xlim(x_inf,x_sup)\n",
    "\n",
    "\n",
    "axes.set_xlabel(r'$\\phi$', fontsize=18)\n",
    "axes.set_ylabel(r'Cavity Tone Frequency GHz', fontsize=18)\n",
    "axes.hlines(w_nr,x_i,x_f,linestyles='dashed')\n",
    "axes.hlines(w_c,x_i,x_f,linestyles='dashed')\n",
    "# axes.vlines(0.245,0,10,linestyles='dashed',linewidth=3)\n",
    "axes.vlines(0.33,0,10,linestyles='dashed')\n",
    "\n",
    "im = axes.pcolor(phi/pi,y_vec,transpose(log10(abs(tr_c))))#axes.pcolor(phi/pi,y_vec,transpose((abs(tr))))#,vmin=0, vmax=1)\n",
    "fig.colorbar(im, ax=axes)\n",
    "# ax[0,0].set_xlim(4.27,4.39)\n",
    "# ax[0,0].set_ylim(P_i,P_f)\n",
    "# axes.set_ylabel(r'Qubit Tone Power(dBm)',fontsize=10)\n",
    "# axes.set_xlabel(r'Qubit Tone Frequency (GHz)',fontsize=10)\n",
    "# axes.set_title(r'$Tr[\\rho\\sigma_z]$',fontsize=20)"
   ]
  },
  {
   "cell_type": "markdown",
   "metadata": {
    "code_folding": [
     0
    ],
    "collapsed": true
   },
   "source": [
    "##Scan Coupling"
   ]
  },
  {
   "cell_type": "code",
   "execution_count": 397,
   "metadata": {
    "code_folding": [],
    "collapsed": true
   },
   "outputs": [],
   "source": [
    "\n",
    "phi = 0.33 * pi\n",
    "w_q = sqrt( 8 * Ec * Ej* abs(cos(phi))*sqrt(1+(d*tan(phi))**2) )-Ec\n",
    "\n",
    "\n",
    "x_i,x_f = 0.0,0.005\n",
    "x_vec= linspace(x_i,x_f,60)\n",
    "\n",
    "y_i,y_f = 4.98,5.02\n",
    "y_vec = linspace(y_i,y_f,30) \n",
    "\n",
    "a , b = zip(*itertools.product(x_vec,y_vec))\n",
    "kwargs = {'num_cpus':26,'dispersive':1, 'Fred':1}"
   ]
  },
  {
   "cell_type": "code",
   "execution_count": 398,
   "metadata": {
    "collapsed": false
   },
   "outputs": [
    {
     "name": "stdout",
     "output_type": "stream",
     "text": [
      "Parallel Simulation with 26 CPUs \n",
      "[100.0%] of the simulations calculated, Estimated Remaining time: 0.0s\n",
      "All done! \n",
      "Mean time:0.114948\n",
      "\n",
      "Total time:0:03:26\n"
     ]
    }
   ],
   "source": [
    "# Run Spectrum\n",
    "# Create from the original vectors the new vector with the correct number copies\n",
    "a , b = zip(*itertools.product(x_vec,y_vec))\n",
    "# variable to count the total number of tasks we need to do; used to create progress bar\n",
    "task_count =len(x_vec)*len(y_vec)\n",
    "\n",
    "# Check number of cpus to be used\n",
    "if 'num_cpus' in kwargs:\n",
    "    num_cpu = kwargs['num_cpus']\n",
    "    if num_cpu == 1:\n",
    "        print(\"1 CPU; Serial Simulation\")\n",
    "    else:\n",
    "        print(\"Parallel Simulation with %d CPUs \" % num_cpu)    \n",
    "else:\n",
    "    num_cpu = 1\n",
    "    print(\"Serial Simulation\")\n",
    "\n",
    "\n",
    "\n",
    "## Program to run function in parallel: \n",
    "t_start = time.time() # start time simulation\n",
    "time_1 = []\n",
    "try:\n",
    "    pool = mp.Pool(processes=num_cpu) #  create the initial pool to run the simulation   \n",
    "#         manager = mp.Manager()\n",
    "#         queue = manager.Queue()\n",
    "\n",
    "\n",
    "#         _update_progress_bar(1)\n",
    "#     task_args = a,z\n",
    "    results = [pool.apply_async(calc_spectrum_6,(N,\n",
    "                                                 M,\n",
    "                                                 P,\n",
    "                                                 w_c,\n",
    "                                                 w_nr,\n",
    "                                                 w_q,\n",
    "                                                 a1,\n",
    "                                                 g,\n",
    "                                                 A,\n",
    "                                                 b1),kwargs\n",
    "                                ,callback=None,error_callback=None) for a1,b1 in zip(a,b)]\n",
    "\n",
    "\n",
    "\n",
    "        #####calc_spectrum_6(N,M,P, w_c,w_nr, w_q,L,g,A,w=0, **kwargs)\n",
    "    while True:\n",
    "        incomplete_count = sum(1 for x in results if not x.ready())\n",
    "\n",
    "        if incomplete_count == 0:\n",
    "            print(\"[100.0%] of the simulations calculated, Estimated Remaining time: 0.0s\", end=\"\\r\")\n",
    "            print( \"\\nAll done! \\nMean time:%f\"%(dif_time/task_count))\n",
    "            print( \"\\nTotal time:%s\"%datetime.timedelta(seconds=int(dif_time)))\n",
    "            break\n",
    "\n",
    "        else:\n",
    "\n",
    "            p = float(task_count - incomplete_count) / task_count * 100 \n",
    "\n",
    "            dif_time = (time.time() - t_start)    \n",
    "\n",
    "#                 \n",
    "            if p > 0:\n",
    "                rem_time = (datetime.timedelta(seconds=int(dif_time*(100-p)/p)))\n",
    "\n",
    "#                     rem_time_1 = (datetime.timedelta(seconds=int(dif_time/(task_count-incomplete_count))))\n",
    "                time_1.append(float(dif_time/(task_count -  incomplete_count)))\n",
    "#                     rem_time_1 = mean(time_1) *task_count\n",
    "#                     rem_time_1 = (datetime.timedelta( seconds=int(mean(time_1) *task_count)))\n",
    "                rem_time_1 = time.strftime(\"%Z - %Y/%m/%d, %H:%M:%S\", time.localtime(t_start+mean(time_1) *task_count))\n",
    "            else:\n",
    "                rem_time = '?'\n",
    "                rem_time_1 = 0\n",
    "\n",
    "\n",
    "            print(\"[%4.1f%%] of the simulations calculated, Estimated Remaining time: %s, (%s)\"\n",
    "                  %(p,rem_time,rem_time_1) , end=\"\\r\")\n",
    "\n",
    "            time.sleep(.25)\n",
    "\n",
    "\n",
    "    while not all([ar.ready() for ar in results]):\n",
    "\n",
    "        for ar in results:    \n",
    "            ar.wait(timeout=0.1)\n",
    "\n",
    "    pool.terminate()\n",
    "    pool.join()\n",
    "\n",
    "except KeyboardInterrupt as e:\n",
    "    pool.terminate()\n",
    "    pool.join()\n",
    "    raise e\n",
    "\n",
    "\n",
    "\n",
    "\n",
    "results = [ar.get() for ar in results]\n",
    "\n"
   ]
  },
  {
   "cell_type": "code",
   "execution_count": 399,
   "metadata": {
    "code_folding": [
     0
    ],
    "collapsed": true
   },
   "outputs": [],
   "source": [
    "#results = qload('Two_Dispersive_Simulation')\n",
    "results_2 = asarray(results)\n",
    "# qsave(results,name='One_Dispersive_Simulation_200x300')\n",
    "#qsave(results,name='Two_Dispersive_Simulation')\n",
    "# qsave(results,name='ThirtytyVolts')\n",
    "\n",
    "tr_c = reshape(results_2[:,0],(-1,len(y_vec+1)))\n",
    "tr_a = reshape(results_2[:,1],(-1,len(y_vec+1)))\n",
    "tr_b = reshape(results_2[:,2],(-1,len(y_vec+1)))\n",
    "tr_d = reshape(results_2[:,3],(-1,len(y_vec+1)))"
   ]
  },
  {
   "cell_type": "code",
   "execution_count": 400,
   "metadata": {
    "code_folding": [
     0
    ],
    "collapsed": false
   },
   "outputs": [
    {
     "data": {
      "text/plain": [
       "<matplotlib.text.Text at 0x7f10d711ea20>"
      ]
     },
     "execution_count": 400,
     "metadata": {},
     "output_type": "execute_result"
    },
    {
     "data": {
      "image/png": "[encoded data removed]",
      "text/plain": [
       "<matplotlib.figure.Figure at 0x7f10d8958518>"
      ]
     },
     "metadata": {},
     "output_type": "display_data"
    }
   ],
   "source": [
    "# Plot Graphics\n",
    "fig, ax = subplots(4,1, figsize=(16,20))\n",
    "\n",
    "\n",
    "\n",
    "im = ax[0].pcolor(x_vec,y_vec,transpose(log10(abs(tr_c))))#,vmin=0, vmax=1)\n",
    "fig.colorbar(im, ax=ax[0])\n",
    "# ax[0,0].set_xlim(4.27,4.39)\n",
    "# ax[0,0].set_ylim(P_i,P_f)\n",
    "ax[0].set_ylabel(r'Probe Frequency (GHz)',fontsize=20)\n",
    "# ax[0].set_xlabel(r'Qubit Tone Frequency (GHz)',fontsize=10)\n",
    "ax[0].set_title(r'$Tr[\\rho c]$',fontsize=20)\n",
    "\n",
    "\n",
    "im = ax[1].pcolor(x_vec,y_vec,transpose((abs(tr_a))))#,vmin=0, vmax=1)\n",
    "fig.colorbar(im, ax=ax[1])\n",
    "# ax[0,0].set_xlim(4.27,4.39)\n",
    "# ax[0,0].set_ylim(P_i,P_f)\n",
    "ax[1].set_ylabel(r'Probe Frequency (GHz)',fontsize=20)\n",
    "# ax[1].set_xlabel(r'Qubit Tone Frequency (GHz)',fontsize=10)\n",
    "ax[1].set_title(r'$Tr[\\rho \\sigma_z]$',fontsize=20)\n",
    "\n",
    "im = ax[2].pcolor(x_vec,y_vec,transpose(log10(abs(tr_b))))#,vmin=0, vmax=1)\n",
    "fig.colorbar(im, ax=ax[2])\n",
    "# ax[0,0].set_xlim(4.27,4.39)\n",
    "# ax[0,0].set_ylim(P_i,P_f)\n",
    "ax[2].set_ylabel(r'Probe Frequency (GHz)',fontsize=20)\n",
    "# ax[2].set_xlabel(r'Qubit Tone Frequency (GHz)',fontsize=10)\n",
    "ax[2].set_title(r'$Tr[\\rho b^\\dagger  b]$',fontsize=20)\n",
    "\n",
    "im = ax[3].pcolor(x_vec,y_vec,transpose((abs(tr_d))))#,vmin=0, vmax=1)\n",
    "fig.colorbar(im, ax=ax[3])\n",
    "# ax[0,0].set_xlim(4.27,4.39)\n",
    "# ax[0,0].set_ylim(P_i,P_f)\n",
    "ax[3].set_ylabel(r'Probe Frequency (GHz)',fontsize=20)\n",
    "ax[3].set_xlabel(r'$\\lambda$ GHz',fontsize=20)\n",
    "ax[3].set_title(r'$Tr[\\rho c^\\dagger c]$',fontsize=20)"
   ]
  }
 ],
 "metadata": {
  "kernelspec": {
   "display_name": "Python 3",
   "language": "python",
   "name": "python3"
  },
  "language_info": {
   "codemirror_mode": {
    "name": "ipython",
    "version": 3
   },
   "file_extension": ".py",
   "mimetype": "text/x-python",
   "name": "python",
   "nbconvert_exporter": "python",
   "pygments_lexer": "ipython3",
   "version": "3.4.0"
  }
 },
 "nbformat": 4,
 "nbformat_minor": 0
}
