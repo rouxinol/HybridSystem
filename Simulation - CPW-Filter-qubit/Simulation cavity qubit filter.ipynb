{
 "metadata": {
  "name": "",
  "signature": "sha256:b4d3db5b72eecc797201104b2b6b7140e03b3595ec1614298ce82b60ed2c5054"
 },
 "nbformat": 3,
 "nbformat_minor": 0,
 "worksheets": [
  {
   "cells": [
    {
     "cell_type": "heading",
     "level": 1,
     "metadata": {},
     "source": [
      "Cavity qubit full hamiltonian"
     ]
    },
    {
     "cell_type": "code",
     "collapsed": false,
     "input": [
      "%pylab inline\n",
      "%load_ext autoreload\n",
      "from MyUnits import *\n",
      "from MyFunctions import *\n",
      "from qutip import *\n",
      "from MyQubit import *\n",
      "import mpld3\n",
      "# %aimport MyQubit\n",
      "\n",
      "%autoreload 2"
     ],
     "language": "python",
     "metadata": {},
     "outputs": [
      {
       "output_type": "stream",
       "stream": "stdout",
       "text": [
        "Populating the interactive namespace from numpy and matplotlib\n",
        "The autoreload extension is already loaded. To reload it, use:\n",
        "  %reload_ext autoreload\n"
       ]
      },
      {
       "output_type": "stream",
       "stream": "stderr",
       "text": [
        "WARNING: pylab import has clobbered these variables: ['identity', 'shape', 'copy', 'entropy', 'info', 'pylab', 'squeeze']\n",
        "`%matplotlib` prevents importing * from pylab and numpy\n"
       ]
      }
     ],
     "prompt_number": 16
    },
    {
     "cell_type": "markdown",
     "metadata": {},
     "source": [
      "#Parameters"
     ]
    },
    {
     "cell_type": "code",
     "collapsed": false,
     "input": [
      "h = 6.62606957e-34 # Planck Contant\n",
      "hbar = h/(2*pi) # Planck Constant over 2 Pi\n",
      "heV = 4.136E-15 # h in eV\n",
      "qe = 1.60217657e-19 # Electric Charge\n",
      "hbar = h/2/pi\n",
      "DelAl = 0.180e-3 * qe # V\n",
      "kB = 1.3806488e-23 # Boltzmann Constant\n",
      "e0 = 8.854e-12 # Permittivity vacuum, F/m"
     ],
     "language": "python",
     "metadata": {},
     "outputs": [],
     "prompt_number": 2
    },
    {
     "cell_type": "code",
     "collapsed": false,
     "input": [
      "N = 10"
     ],
     "language": "python",
     "metadata": {},
     "outputs": [],
     "prompt_number": 3
    },
    {
     "cell_type": "code",
     "collapsed": false,
     "input": [
      "wr = (5.0) * 2* pi\n",
      "# wge = 4.4 * 2 * pi\n",
      "# wef = 4.3 * 2 * pi\n",
      "g_ge = 0.1 * 2 * pi\n",
      "g_ef = 0.2 * 2 * pi\n",
      "Gamma_s = 0.0002635497665 * 2* pi\n",
      "Gamma_d = 0.000308010154756 * 2 * pi\n",
      "wg = 0.1 *2 * pi\n",
      "we = 4.4 * 2 * pi\n",
      "wf = 8.0 * 2 * pi\n"
     ],
     "language": "python",
     "metadata": {},
     "outputs": [],
     "prompt_number": 39
    },
    {
     "cell_type": "code",
     "collapsed": false,
     "input": [
      "kappa_n = 0.00025245000000000004 * 2 * pi\n",
      "gamma_rel = 0.00023255813953488373 * 2 * pi\n",
      "gamma_dep = 0.0011403579916684755 * 2 * pi\n",
      "n_th_a = 0.02238770514 * 2 * pi\n",
      "\n"
     ],
     "language": "python",
     "metadata": {},
     "outputs": [],
     "prompt_number": 40
    },
    {
     "cell_type": "code",
     "collapsed": false,
     "input": [
      "# b_f = basis(3, 0)\n",
      "# b_e = basis(3, 1)\n",
      "# b_g = basis(3, 2)\n",
      "\n",
      "# s_gg = tensor(qeye(N), b_g * b_g.dag())  # |e><e|\n",
      "# s_ee = tensor(qeye(N), b_e * b_e.dag())  # |e><e|\n",
      "# s_ge = tensor(qeye(N), b_g * b_e.dag())  # |g><e|\n",
      "# s_ef = tensor(qeye(N), b_e * b_f.dag())  # |e><f|\n",
      "\n",
      "\n",
      "# I = tensor(qeye(N), qeye(3))"
     ],
     "language": "python",
     "metadata": {},
     "outputs": [],
     "prompt_number": 41
    },
    {
     "cell_type": "code",
     "collapsed": false,
     "input": [
      "# # cavity operators\n",
      "# a = tensor(destroy(N), qeye(3))\n",
      "# nc = a.dag() * a\n",
      "# xc = a + a.dag()\n",
      "\n",
      "# #Hamiltonian\n",
      "\n",
      "# Hr = wr * (a.dag() * a + I/2) \n",
      "# Hq = wge*(s_gg) + wef * s_ee\n",
      "# Hint = Lge * ( a.dag()*s_ge + a * s_ge.dag()) + Lef * (a.dag()*s_ef + a*s_ef.dag())\n",
      "# Hd = (Gamma_d/2.0) * (a + a.dag())\n",
      "# Hs = (Gamma_s/2.0) * (s_ge + s_ge.dag())\n",
      "\n",
      "# H = Hr + Hq + Hint + Hd + Hs\n",
      "\n",
      "\n",
      "#  Initial State\n",
      "#     psi0 = tensor(ket2dm(basis(N,0)), ket2dm(basis(2,0))).unit()\n",
      "\n",
      "\n",
      "\n",
      "\n"
     ],
     "language": "python",
     "metadata": {},
     "outputs": [],
     "prompt_number": 42
    },
    {
     "cell_type": "code",
     "collapsed": false,
     "input": [
      "# collapse operators\n",
      "\n",
      "# c_op_list = []\n",
      "\n",
      "\n",
      "\n",
      "\n",
      "# rate = kappa_n * (1 + n_th_a)\n",
      "# if rate > 0.0:\n",
      "#     c_op_list.append(sqrt(rate) * a)\n",
      "\n",
      "# rate = kappa_n * n_th_a\n",
      "# if rate > 0.0:\n",
      "#     c_op_list.append(sqrt(rate) * a.dag())\n",
      "\n",
      "# rate = gamma_rel * (1 + n_th_a)\n",
      "# if rate > 0.0:\n",
      "#     c_op_list.append(sqrt(rate) * s_ge.dag())\n",
      "\n",
      "# rate = gamma_rel * (n_th_a)\n",
      "# if rate > 0.0:\n",
      "#     c_op_list.append(sqrt(rate) * s_ge)   \n",
      "\n",
      "# rate = gamma_dep/2 * (1 + n_th_a)\n",
      "# if rate > 0.0:\n",
      "#     c_op_list.append(sqrt(rate) * (s_ge + s_ge.dag()))    \n",
      "\n",
      "\n",
      "# #     A = sz.dag()\n",
      "# #     B = sz\n",
      "# #     spec = []\n",
      "\n",
      "# rho    = steadystate(H,c_op_list)\n",
      "# rho_sz = rho * (s_ge + s_ge.dag())\n",
      "# rho_n  = rho * (a.dag()*a )\n",
      "# rho_x  = rho * (a.dag() + a)\n",
      "# rho_a  = rho * a\n",
      "\n",
      "\n",
      "# calculate the power spectrum\n",
      "#     corr_vecq = correlation_2op_2t(H, psi0, None, tlist, c_op_list, A, B,solver=\"me\")\n",
      "\n",
      "#     print(\"Correlation Done!\")\n",
      "\n",
      "#     w1, S1 = spectrum_correlation_fft(tlist, corr_vecq)\n",
      "\n",
      "#     print( \"Spectrum Done!\")\n",
      "\n",
      "#     return w1, S1, result"
     ],
     "language": "python",
     "metadata": {},
     "outputs": [],
     "prompt_number": 43
    },
    {
     "cell_type": "code",
     "collapsed": false,
     "input": [
      "# dispersive hamiltonian\n",
      "# H = wr * (a.dag() * a + I/2.0) + (wq / 2.0) * sz + chi * (a.dag() * a + I/2) * sz\n"
     ],
     "language": "python",
     "metadata": {},
     "outputs": [],
     "prompt_number": 44
    },
    {
     "cell_type": "markdown",
     "metadata": {},
     "source": [
      "# Initial state "
     ]
    },
    {
     "cell_type": "code",
     "collapsed": false,
     "input": [
      "# rho_sz.tr(), rho_n.tr(), rho_x.tr(), rho_a.tr()"
     ],
     "language": "python",
     "metadata": {},
     "outputs": [],
     "prompt_number": 45
    },
    {
     "cell_type": "code",
     "collapsed": false,
     "input": [
      "\n",
      "rho,temp, temp2, temp3, temp4 = full_H(N,wr, wge, wef, Lge, Lef, Gamma_d,Gamma_s, kappa_n,gamma_rel,gamma_dep,n_th_a)"
     ],
     "language": "python",
     "metadata": {},
     "outputs": [],
     "prompt_number": 20
    },
    {
     "cell_type": "code",
     "collapsed": false,
     "input": [
      "abs(temp.tr()),abs(temp2.tr()),abs(temp3.tr()),abs(temp4.tr())"
     ],
     "language": "python",
     "metadata": {},
     "outputs": [
      {
       "metadata": {},
       "output_type": "pyout",
       "prompt_number": 26,
       "text": [
        "(0.0003425657942024732,\n",
        " 0.14222644993789574,\n",
        " 5.469739822632287e-05,\n",
        " 2.7348699338574172e-05)"
       ]
      }
     ],
     "prompt_number": 26
    },
    {
     "cell_type": "code",
     "collapsed": false,
     "input": [
      "N = 5 # number of states cavity\n",
      "Q_c = 20000\n",
      "Q_l = 20000\n",
      "w_r_tilde = 5.065 * 2 * pi\n",
      "w_ge_tilde = 4.36 *2 * pi\n",
      "P_cavity = -(106 + 32) # Input power cavity\n",
      "\n",
      "Gamma_d = sqrt(Q_c*kappa_n*1e9*dBmtoW(P_cavity)/(2*Q_l*hbar*w_r_tilde*1e9))/1e9  # Drive amplitude qubit\n",
      "print('Drive amplitude cavity =',Gamma_d/2/pi, 'GHz')\n",
      "\n",
      "# w_s = 2 * pi * linspace(f_s_i,f_s_f,steps_s)\n",
      "\n",
      "\n",
      "f_d_i = 5.058 # cavity initial frequency \n",
      "f_d_f = 5.062# cavity final frequency\n",
      "steps_d = 50\n",
      "w_d = 2 * pi * linspace(f_d_i,f_d_f,steps_d)\n",
      "\n",
      "f_s_i = 4.2 # qubit initial freq\n",
      "f_s_f = 4.4  # qubit final freq\n",
      "steps_s = 50\n",
      "w_s = 2 * pi * linspace(f_s_i,f_s_f,steps_s)\n",
      "\n",
      "amp_sz = []\n",
      "amp_n = []\n",
      "amp_x = []\n",
      "for wr in w_d:\n",
      "    \n",
      "    for wq in w_s:\n",
      "        \n",
      "       \n",
      "        rho,temp, temp2, temp3, temp4 = full_H(N,wr, wg, we, wf, g_ge, g_ef, Lge, Lef, Gamma_d,Gamma_s, kappa_n,gamma_rel,gamma_dep,n_th_a)\n",
      "        amp_sz.append((temp.tr()))\n",
      "        amp_n.append((temp2.tr()))\n",
      "        amp_x.append((temp3.tr()))\n",
      "        amp_a.append((temp4.tr()))\n",
      "        \n",
      "\n",
      "\n",
      "\n",
      "\n",
      "\n",
      "# for Pq in P_qubit:\n",
      "    \n",
      "#     for wq in w_s:\n",
      "        \n",
      "        \n",
      "#         Delta_s_tilde = w_ge_tilde - wq\n",
      "#         Gamma_s = sqrt(Q_c*kappa_n*1e9*dBmtoW(Pq)/(2*Q_l*hbar*w_ge_tilde*1e9))/1e9\n",
      "\n",
      "#         rho,temp, temp2, temp3, temp4 = full_H(N,wr, wge, wef, Lge, Lef, Gamma_d,Gamma_s, kappa_n,gamma_rel,gamma_dep,n_th_a)\n",
      "#         amp_sz.append((temp.tr()))\n",
      "#         amp_n.append((temp2.tr()))\n",
      "#         amp_x.append((temp3.tr()))\n",
      "#         amp_a.append((temp4.tr()))\n",
      "        "
     ],
     "language": "python",
     "metadata": {},
     "outputs": [
      {
       "output_type": "stream",
       "stream": "stdout",
       "text": [
        "Drive amplitude cavity = 0.000308010154756 GHz\n"
       ]
      }
     ],
     "prompt_number": 47
    },
    {
     "cell_type": "code",
     "collapsed": false,
     "input": [
      "Tr_sz = reshape(amp_sz,(-1,len(w_s+1)))\n",
      "Tr_n  = reshape(amp_n ,(-1,len(w_s+1)))\n",
      "Tr_x  = reshape(amp_x ,(-1,len(w_s+1)))\n",
      "Tr_a  = reshape(amp_a ,(-1,len(w_s+1)))"
     ],
     "language": "python",
     "metadata": {},
     "outputs": [],
     "prompt_number": 55
    },
    {
     "cell_type": "code",
     "collapsed": false,
     "input": [],
     "language": "python",
     "metadata": {},
     "outputs": [
      {
       "metadata": {},
       "output_type": "pyout",
       "prompt_number": 60,
       "text": [
        "1.000000000000001"
       ]
      }
     ],
     "prompt_number": 60
    },
    {
     "cell_type": "code",
     "collapsed": false,
     "input": [
      "fig, ax = subplots(2,2, figsize=(16,10))\n",
      "\n",
      "im = ax[0,0].pcolor( w_s/2/pi,w_d/2/pi,abs(Tr_sz))#,vmin=0, vmax=1)\n",
      "fig.colorbar(im, ax=ax[0,0])\n",
      "ax[0,0].set_xlim(4.27,4.39)\n",
      "ax[0,0].set_ylim(P_i,P_f)\n",
      "ax[0,0].set_ylabel(r'Qubit Tone Power(dBm)',fontsize=10)\n",
      "ax[0,0].set_xlabel(r'Qubit Tone Frequency (GHz)',fontsize=10)\n",
      "ax[0,0].set_title(r'$Tr[\\rho\\sigma_z]$',fontsize=20)\n",
      "\n",
      "\n",
      "im2 = ax[0,1].pcolor(w_s/2/pi,w_d/2/pi,abs(Tr_n))#,vmin=0, vmax=1)\n",
      "fig.colorbar(im2, ax=ax[0,1])\n",
      "ax[0,1].set_ylim(P_i,P_f)\n",
      "ax[0,1].set_xlim(4.27,4.39)\n",
      "ax[0,1].set_ylabel(r'Qubit Tone Power(dBm)',fontsize=10)\n",
      "ax[0,1].set_xlabel(r'Qubit Tone Frequency (GHz)', fontsize=10)\n",
      "ax[0,1].set_title(r'$Tr[\\rho {a^{\\dagger}a}]$',fontsize=20)\n",
      "\n",
      "im3 = ax[1,0].pcolor(w_s/2/pi,w_d/2/pi,abs(Tr_x))#,vmin=0, vmax=1)\n",
      "fig.colorbar(im2, ax=ax[1,0])\n",
      "ax[1,0].set_ylim(P_i,P_f)\n",
      "ax[1,0].set_xlim(4.27,4.39)\n",
      "ax[1,0].set_ylabel(r'Qubit Tone Power(dBm)',fontsize=10)\n",
      "ax[1,0].set_xlabel(r'Qubit Tone Frequency (GHz)', fontsize=10)\n",
      "ax[1,0].set_title(r'$Tr[\\rho (a^{\\dagger} + a)]$',fontsize=20)\n",
      "\n",
      "im3 = ax[1,1].pcolor(w_s/2/pi,w_d/2/pi,abs(Tr_x))#,vmin=0, vmax=1)\n",
      "fig.colorbar(im2, ax=ax[1,1])\n",
      "ax[1,1].set_ylim(P_i,P_f)\n",
      "ax[1,1].set_xlim(4.27,4.39)\n",
      "ax[1,1].set_ylabel(r'Qubit Tone Power(dBm)',fontsize=10)\n",
      "ax[1,1].set_xlabel(r'Qubit Tone Frequency (GHz)', fontsize=10)\n",
      "ax[1,1].set_title(r'$Tr[\\rho a]$',fontsize=20)"
     ],
     "language": "python",
     "metadata": {},
     "outputs": [
      {
       "metadata": {},
       "output_type": "pyout",
       "prompt_number": 57,
       "text": [
        "<matplotlib.text.Text at 0x10f0440b8>"
       ]
      },
      {
       "metadata": {},
       "output_type": "display_data",
       "png": "[encoded data removed]",
       "text": [
        "<matplotlib.figure.Figure at 0x10ef953c8>"
       ]
      }
     ],
     "prompt_number": 57
    },
    {
     "cell_type": "code",
     "collapsed": false,
     "input": [],
     "language": "python",
     "metadata": {},
     "outputs": []
    }
   ],
   "metadata": {}
  }
 ]
}